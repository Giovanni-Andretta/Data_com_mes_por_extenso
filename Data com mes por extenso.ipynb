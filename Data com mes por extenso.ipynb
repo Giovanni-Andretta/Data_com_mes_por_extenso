{
 "cells": [
  {
   "cell_type": "code",
   "execution_count": 40,
   "id": "3fbbf9a1",
   "metadata": {},
   "outputs": [
    {
     "name": "stdout",
     "output_type": "stream",
     "text": [
      "==================================================\n",
      "\n",
      "Digite o dia do mes: 20\n",
      "Digite o mes: 4\n",
      "Digite o ano: 2000\n",
      "\n",
      "\n",
      "Data colocada: 20/4/2000\n",
      "\n",
      "\n",
      "Data modificada: 20 de abril de 2000\n",
      "\n",
      "==================================================\n"
     ]
    }
   ],
   "source": [
    "#Giovanni Andretta Carbonero\n",
    "\n",
    "#Funcao/Variavel referente ao mes\n",
    "def atualiza(mes):\n",
    "    if mes == 1 or mes == \"01\":\n",
    "        mesext = \"janeiro\"\n",
    "    elif mes == 2 or mes == \"02\":\n",
    "        mesext = \"fevereiro\"\n",
    "    elif mes == 3 or mes == \"03\":\n",
    "        mesext = \"março\"\n",
    "    elif mes == 4 or mes == \"04\":\n",
    "        mesext = \"abril\"\n",
    "    elif mes == 5 or mes == \"05\":\n",
    "        mesext = \"maio\"\n",
    "    elif mes == 6 or mes == \"06\":\n",
    "        mesext = \"junho\"\n",
    "    elif mes == 7 or mes == \"07\":\n",
    "        mesext = \"julho\"\n",
    "    elif mes == 8 or mes == \"08\":\n",
    "        mesext = \"agosto\"\n",
    "    elif mes == 9 or mes == \"09\":\n",
    "        mesext = \"setembro\"\n",
    "    elif mes == 10:\n",
    "        mesext = \"outubro\"\n",
    "    elif mes == 11:\n",
    "        mesext = \"novembro\"\n",
    "    elif mes == 12:\n",
    "        mesext = \"dezembro\"\n",
    "    else:\n",
    "        print(\"Dia do mes invalido...\")\n",
    "        return \"NULL\"\n",
    "        \n",
    "    return mesext\n",
    "\n",
    "#Funcao para exibir a data\n",
    "def data(dia, mes, ano):\n",
    "    \n",
    "    print(\"\\n\\nData inserida: %d/%d/%d\\n\" % (dia, mes, ano))\n",
    "    \n",
    "    mesext = atualiza(mes)\n",
    "    \n",
    "    print(\"\\nData modificada: %d de %s de %d\\n\" % (dia, mesext, ano))\n",
    "    \n",
    "    print(\"=\"*50)\n",
    "\n",
    "#Funcao principal\n",
    "def main():\n",
    "    \n",
    "    print(\"=\"*50)\n",
    "    \n",
    "    dia = int(input(\"\\nDigite o dia do mes: \"))\n",
    "    mes = int(input(\"Digite o mes: \"))\n",
    "    ano = int(input(\"Digite o ano: \"))\n",
    "\n",
    "    data(dia, mes, ano)\n",
    "    \n",
    "main()"
   ]
  },
  {
   "cell_type": "code",
   "execution_count": null,
   "id": "00128900",
   "metadata": {},
   "outputs": [],
   "source": []
  },
  {
   "cell_type": "code",
   "execution_count": null,
   "id": "68011307",
   "metadata": {},
   "outputs": [],
   "source": []
  }
 ],
 "metadata": {
  "kernelspec": {
   "display_name": "Python 3",
   "language": "python",
   "name": "python3"
  },
  "language_info": {
   "codemirror_mode": {
    "name": "ipython",
    "version": 3
   },
   "file_extension": ".py",
   "mimetype": "text/x-python",
   "name": "python",
   "nbconvert_exporter": "python",
   "pygments_lexer": "ipython3",
   "version": "3.8.8"
  }
 },
 "nbformat": 4,
 "nbformat_minor": 5
}
